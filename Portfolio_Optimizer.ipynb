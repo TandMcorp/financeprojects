{
  "nbformat": 4,
  "nbformat_minor": 0,
  "metadata": {
    "colab": {
      "name": "Portfolio Optimizer",
      "provenance": [],
      "collapsed_sections": [],
      "authorship_tag": "ABX9TyN9/w3Q1JAWT2P/DCg8nIVu"
    },
    "kernelspec": {
      "name": "python3",
      "display_name": "Python 3"
    }
  },
  "cells": [
    {
      "cell_type": "code",
      "metadata": {
        "id": "43hoPhIJg3Z4",
        "colab_type": "code",
        "colab": {}
      },
      "source": [
        "#Importing all required libraries\n",
        "import matplotlib.pyplot as plt\n",
        "import numpy as np\n",
        "import pandas as pd\n",
        "import pandas_datareader as web\n",
        "from matplotlib.ticker import FuncFormatter"
      ],
      "execution_count": 0,
      "outputs": []
    },
    {
      "cell_type": "code",
      "metadata": {
        "id": "Ieocq3nZioWy",
        "colab_type": "code",
        "colab": {
          "base_uri": "https://localhost:8080/",
          "height": 649
        },
        "outputId": "b477fc16-0320-4912-c3e9-491f806d604b"
      },
      "source": [
        "!pip install pyfolio\n",
        "import pyfolio as pf"
      ],
      "execution_count": 7,
      "outputs": [
        {
          "output_type": "stream",
          "text": [
            "Requirement already satisfied: pyfolio in /usr/local/lib/python3.6/dist-packages (0.9.2)\n",
            "Requirement already satisfied: empyrical>=0.5.0 in /usr/local/lib/python3.6/dist-packages (from pyfolio) (0.5.3)\n",
            "Requirement already satisfied: ipython>=3.2.3 in /usr/local/lib/python3.6/dist-packages (from pyfolio) (5.5.0)\n",
            "Requirement already satisfied: pytz>=2014.10 in /usr/local/lib/python3.6/dist-packages (from pyfolio) (2018.9)\n",
            "Requirement already satisfied: pandas>=0.18.1 in /usr/local/lib/python3.6/dist-packages (from pyfolio) (0.25.3)\n",
            "Requirement already satisfied: seaborn>=0.7.1 in /usr/local/lib/python3.6/dist-packages (from pyfolio) (0.10.1)\n",
            "Requirement already satisfied: scipy>=0.14.0 in /usr/local/lib/python3.6/dist-packages (from pyfolio) (1.4.1)\n",
            "Requirement already satisfied: scikit-learn>=0.16.1 in /usr/local/lib/python3.6/dist-packages (from pyfolio) (0.22.2.post1)\n",
            "Requirement already satisfied: numpy>=1.11.1 in /usr/local/lib/python3.6/dist-packages (from pyfolio) (1.18.4)\n",
            "Requirement already satisfied: matplotlib>=1.4.0 in /usr/local/lib/python3.6/dist-packages (from pyfolio) (3.2.1)\n",
            "Requirement already satisfied: pandas-datareader>=0.2 in /usr/local/lib/python3.6/dist-packages (from empyrical>=0.5.0->pyfolio) (0.8.1)\n",
            "Requirement already satisfied: decorator in /usr/local/lib/python3.6/dist-packages (from ipython>=3.2.3->pyfolio) (4.4.2)\n",
            "Requirement already satisfied: pygments in /usr/local/lib/python3.6/dist-packages (from ipython>=3.2.3->pyfolio) (2.1.3)\n",
            "Requirement already satisfied: pickleshare in /usr/local/lib/python3.6/dist-packages (from ipython>=3.2.3->pyfolio) (0.7.5)\n",
            "Requirement already satisfied: simplegeneric>0.8 in /usr/local/lib/python3.6/dist-packages (from ipython>=3.2.3->pyfolio) (0.8.1)\n",
            "Requirement already satisfied: pexpect; sys_platform != \"win32\" in /usr/local/lib/python3.6/dist-packages (from ipython>=3.2.3->pyfolio) (4.8.0)\n",
            "Requirement already satisfied: prompt-toolkit<2.0.0,>=1.0.4 in /usr/local/lib/python3.6/dist-packages (from ipython>=3.2.3->pyfolio) (1.0.18)\n",
            "Requirement already satisfied: traitlets>=4.2 in /usr/local/lib/python3.6/dist-packages (from ipython>=3.2.3->pyfolio) (4.3.3)\n",
            "Requirement already satisfied: setuptools>=18.5 in /usr/local/lib/python3.6/dist-packages (from ipython>=3.2.3->pyfolio) (47.1.1)\n",
            "Requirement already satisfied: python-dateutil>=2.6.1 in /usr/local/lib/python3.6/dist-packages (from pandas>=0.18.1->pyfolio) (2.8.1)\n",
            "Requirement already satisfied: joblib>=0.11 in /usr/local/lib/python3.6/dist-packages (from scikit-learn>=0.16.1->pyfolio) (0.15.1)\n",
            "Requirement already satisfied: pyparsing!=2.0.4,!=2.1.2,!=2.1.6,>=2.0.1 in /usr/local/lib/python3.6/dist-packages (from matplotlib>=1.4.0->pyfolio) (2.4.7)\n",
            "Requirement already satisfied: cycler>=0.10 in /usr/local/lib/python3.6/dist-packages (from matplotlib>=1.4.0->pyfolio) (0.10.0)\n",
            "Requirement already satisfied: kiwisolver>=1.0.1 in /usr/local/lib/python3.6/dist-packages (from matplotlib>=1.4.0->pyfolio) (1.2.0)\n",
            "Requirement already satisfied: lxml in /usr/local/lib/python3.6/dist-packages (from pandas-datareader>=0.2->empyrical>=0.5.0->pyfolio) (4.2.6)\n",
            "Requirement already satisfied: requests>=2.3.0 in /usr/local/lib/python3.6/dist-packages (from pandas-datareader>=0.2->empyrical>=0.5.0->pyfolio) (2.23.0)\n",
            "Requirement already satisfied: ptyprocess>=0.5 in /usr/local/lib/python3.6/dist-packages (from pexpect; sys_platform != \"win32\"->ipython>=3.2.3->pyfolio) (0.6.0)\n",
            "Requirement already satisfied: wcwidth in /usr/local/lib/python3.6/dist-packages (from prompt-toolkit<2.0.0,>=1.0.4->ipython>=3.2.3->pyfolio) (0.2.2)\n",
            "Requirement already satisfied: six>=1.9.0 in /usr/local/lib/python3.6/dist-packages (from prompt-toolkit<2.0.0,>=1.0.4->ipython>=3.2.3->pyfolio) (1.12.0)\n",
            "Requirement already satisfied: ipython-genutils in /usr/local/lib/python3.6/dist-packages (from traitlets>=4.2->ipython>=3.2.3->pyfolio) (0.2.0)\n",
            "Requirement already satisfied: certifi>=2017.4.17 in /usr/local/lib/python3.6/dist-packages (from requests>=2.3.0->pandas-datareader>=0.2->empyrical>=0.5.0->pyfolio) (2020.4.5.1)\n",
            "Requirement already satisfied: urllib3!=1.25.0,!=1.25.1,<1.26,>=1.21.1 in /usr/local/lib/python3.6/dist-packages (from requests>=2.3.0->pandas-datareader>=0.2->empyrical>=0.5.0->pyfolio) (1.24.3)\n",
            "Requirement already satisfied: chardet<4,>=3.0.2 in /usr/local/lib/python3.6/dist-packages (from requests>=2.3.0->pandas-datareader>=0.2->empyrical>=0.5.0->pyfolio) (3.0.4)\n",
            "Requirement already satisfied: idna<3,>=2.5 in /usr/local/lib/python3.6/dist-packages (from requests>=2.3.0->pandas-datareader>=0.2->empyrical>=0.5.0->pyfolio) (2.9)\n"
          ],
          "name": "stdout"
        },
        {
          "output_type": "stream",
          "text": [
            "/usr/local/lib/python3.6/dist-packages/pyfolio/pos.py:28: UserWarning: Module \"zipline.assets\" not found; mutltipliers will not be applied to position notionals.\n",
            "  ' to position notionals.'\n"
          ],
          "name": "stderr"
        }
      ]
    },
    {
      "cell_type": "code",
      "metadata": {
        "id": "-gH7NCwUi6Do",
        "colab_type": "code",
        "colab": {
          "base_uri": "https://localhost:8080/",
          "height": 343
        },
        "outputId": "8faf5754-2992-40e8-837a-13e07507aac6"
      },
      "source": [
        "!pip install PyPortfolioOpt\n",
        "#Installing the Portfolio Optimzation Library"
      ],
      "execution_count": 8,
      "outputs": [
        {
          "output_type": "stream",
          "text": [
            "Requirement already satisfied: PyPortfolioOpt in /usr/local/lib/python3.6/dist-packages (1.2.2)\n",
            "Requirement already satisfied: numpy in /usr/local/lib/python3.6/dist-packages (from PyPortfolioOpt) (1.18.4)\n",
            "Requirement already satisfied: cvxpy<2.0.0,>=1.0.28 in /usr/local/lib/python3.6/dist-packages (from PyPortfolioOpt) (1.0.31)\n",
            "Requirement already satisfied: matplotlib<4.0.0,>=3.2.0 in /usr/local/lib/python3.6/dist-packages (from PyPortfolioOpt) (3.2.1)\n",
            "Requirement already satisfied: pandas<0.26.0,>=0.25.3 in /usr/local/lib/python3.6/dist-packages (from PyPortfolioOpt) (0.25.3)\n",
            "Requirement already satisfied: scipy in /usr/local/lib/python3.6/dist-packages (from PyPortfolioOpt) (1.4.1)\n",
            "Requirement already satisfied: osqp>=0.4.1 in /usr/local/lib/python3.6/dist-packages (from cvxpy<2.0.0,>=1.0.28->PyPortfolioOpt) (0.6.1)\n",
            "Requirement already satisfied: multiprocess in /usr/local/lib/python3.6/dist-packages (from cvxpy<2.0.0,>=1.0.28->PyPortfolioOpt) (0.70.9)\n",
            "Requirement already satisfied: ecos>=2 in /usr/local/lib/python3.6/dist-packages (from cvxpy<2.0.0,>=1.0.28->PyPortfolioOpt) (2.0.7.post1)\n",
            "Requirement already satisfied: scs>=1.1.3 in /usr/local/lib/python3.6/dist-packages (from cvxpy<2.0.0,>=1.0.28->PyPortfolioOpt) (2.1.2)\n",
            "Requirement already satisfied: pyparsing!=2.0.4,!=2.1.2,!=2.1.6,>=2.0.1 in /usr/local/lib/python3.6/dist-packages (from matplotlib<4.0.0,>=3.2.0->PyPortfolioOpt) (2.4.7)\n",
            "Requirement already satisfied: python-dateutil>=2.1 in /usr/local/lib/python3.6/dist-packages (from matplotlib<4.0.0,>=3.2.0->PyPortfolioOpt) (2.8.1)\n",
            "Requirement already satisfied: kiwisolver>=1.0.1 in /usr/local/lib/python3.6/dist-packages (from matplotlib<4.0.0,>=3.2.0->PyPortfolioOpt) (1.2.0)\n",
            "Requirement already satisfied: cycler>=0.10 in /usr/local/lib/python3.6/dist-packages (from matplotlib<4.0.0,>=3.2.0->PyPortfolioOpt) (0.10.0)\n",
            "Requirement already satisfied: pytz>=2017.2 in /usr/local/lib/python3.6/dist-packages (from pandas<0.26.0,>=0.25.3->PyPortfolioOpt) (2018.9)\n",
            "Requirement already satisfied: future in /usr/local/lib/python3.6/dist-packages (from osqp>=0.4.1->cvxpy<2.0.0,>=1.0.28->PyPortfolioOpt) (0.16.0)\n",
            "Requirement already satisfied: dill>=0.3.1 in /usr/local/lib/python3.6/dist-packages (from multiprocess->cvxpy<2.0.0,>=1.0.28->PyPortfolioOpt) (0.3.1.1)\n",
            "Requirement already satisfied: six>=1.5 in /usr/local/lib/python3.6/dist-packages (from python-dateutil>=2.1->matplotlib<4.0.0,>=3.2.0->PyPortfolioOpt) (1.12.0)\n"
          ],
          "name": "stdout"
        }
      ]
    },
    {
      "cell_type": "code",
      "metadata": {
        "id": "yJ3EWvBxk0su",
        "colab_type": "code",
        "colab": {}
      },
      "source": [
        "from pypfopt.efficient_frontier import EfficientFrontier \n",
        "from pypfopt import risk_models \n",
        "from pypfopt import expected_returns\n",
        "from pypfopt.cla import CLA\n",
        "from pypfopt.plotting import Plotting\n",
        "from matplotlib.ticker import FuncFormatter"
      ],
      "execution_count": 0,
      "outputs": []
    },
    {
      "cell_type": "code",
      "metadata": {
        "id": "l0HjTuUsk4Bm",
        "colab_type": "code",
        "colab": {
          "base_uri": "https://localhost:8080/",
          "height": 545
        },
        "outputId": "05c261e9-f687-4fe9-b72b-8daa57e4aaa4"
      },
      "source": [
        "tickers = ['BSX','AES','BRK-B','SEE','QQQ','SPY']\n",
        "\n",
        "thelen = len(tickers)\n",
        "\n",
        "price_data = []\n",
        "for ticker in range(thelen):\n",
        "    prices = web.DataReader(tickers[ticker], start='2012-01-01', end = '2020-06-06', data_source='yahoo')\n",
        "    price_data.append(prices.assign(ticker=ticker)[['Adj Close']])\n",
        "\n",
        "df_stocks = pd.concat(price_data, axis=1)\n",
        "df_stocks.columns=['BSX','AES','BRK-B','SEE','QQQ','SPY']\n",
        "df_stocks.head()\n"
      ],
      "execution_count": 58,
      "outputs": [
        {
          "output_type": "execute_result",
          "data": {
            "text/html": [
              "<div>\n",
              "<style scoped>\n",
              "    .dataframe tbody tr th:only-of-type {\n",
              "        vertical-align: middle;\n",
              "    }\n",
              "\n",
              "    .dataframe tbody tr th {\n",
              "        vertical-align: top;\n",
              "    }\n",
              "\n",
              "    .dataframe thead th {\n",
              "        text-align: right;\n",
              "    }\n",
              "</style>\n",
              "<table border=\"1\" class=\"dataframe\">\n",
              "  <thead>\n",
              "    <tr style=\"text-align: right;\">\n",
              "      <th></th>\n",
              "      <th>BSX</th>\n",
              "      <th>AES</th>\n",
              "      <th>BRK-B</th>\n",
              "      <th>SEE</th>\n",
              "      <th>QQQ</th>\n",
              "      <th>SPY</th>\n",
              "    </tr>\n",
              "    <tr>\n",
              "      <th>Date</th>\n",
              "      <th></th>\n",
              "      <th></th>\n",
              "      <th></th>\n",
              "      <th></th>\n",
              "      <th></th>\n",
              "      <th></th>\n",
              "    </tr>\n",
              "  </thead>\n",
              "  <tbody>\n",
              "    <tr>\n",
              "      <th>2012-01-03</th>\n",
              "      <td>5.36</td>\n",
              "      <td>9.460018</td>\n",
              "      <td>77.680000</td>\n",
              "      <td>15.016078</td>\n",
              "      <td>52.095646</td>\n",
              "      <td>108.037117</td>\n",
              "    </tr>\n",
              "    <tr>\n",
              "      <th>2012-01-04</th>\n",
              "      <td>5.31</td>\n",
              "      <td>9.389772</td>\n",
              "      <td>76.800003</td>\n",
              "      <td>15.128395</td>\n",
              "      <td>52.315380</td>\n",
              "      <td>108.206604</td>\n",
              "    </tr>\n",
              "    <tr>\n",
              "      <th>2012-01-05</th>\n",
              "      <td>5.34</td>\n",
              "      <td>9.616123</td>\n",
              "      <td>76.930000</td>\n",
              "      <td>15.024719</td>\n",
              "      <td>52.745693</td>\n",
              "      <td>108.494698</td>\n",
              "    </tr>\n",
              "    <tr>\n",
              "      <th>2012-01-06</th>\n",
              "      <td>5.30</td>\n",
              "      <td>9.545878</td>\n",
              "      <td>76.389999</td>\n",
              "      <td>15.154319</td>\n",
              "      <td>52.928810</td>\n",
              "      <td>108.215065</td>\n",
              "    </tr>\n",
              "    <tr>\n",
              "      <th>2012-01-09</th>\n",
              "      <td>5.35</td>\n",
              "      <td>9.733205</td>\n",
              "      <td>76.290001</td>\n",
              "      <td>15.137038</td>\n",
              "      <td>52.754841</td>\n",
              "      <td>108.477776</td>\n",
              "    </tr>\n",
              "    <tr>\n",
              "      <th>2012-01-10</th>\n",
              "      <td>5.53</td>\n",
              "      <td>9.912727</td>\n",
              "      <td>77.419998</td>\n",
              "      <td>15.102478</td>\n",
              "      <td>53.139385</td>\n",
              "      <td>109.418312</td>\n",
              "    </tr>\n",
              "    <tr>\n",
              "      <th>2012-01-11</th>\n",
              "      <td>5.54</td>\n",
              "      <td>9.881506</td>\n",
              "      <td>78.000000</td>\n",
              "      <td>15.214793</td>\n",
              "      <td>53.249256</td>\n",
              "      <td>109.477623</td>\n",
              "    </tr>\n",
              "    <tr>\n",
              "      <th>2012-01-12</th>\n",
              "      <td>5.56</td>\n",
              "      <td>9.795647</td>\n",
              "      <td>78.500000</td>\n",
              "      <td>15.577669</td>\n",
              "      <td>53.459831</td>\n",
              "      <td>109.740280</td>\n",
              "    </tr>\n",
              "    <tr>\n",
              "      <th>2012-01-13</th>\n",
              "      <td>5.52</td>\n",
              "      <td>9.873700</td>\n",
              "      <td>77.769997</td>\n",
              "      <td>15.534472</td>\n",
              "      <td>53.267567</td>\n",
              "      <td>109.172577</td>\n",
              "    </tr>\n",
              "    <tr>\n",
              "      <th>2012-01-17</th>\n",
              "      <td>5.53</td>\n",
              "      <td>10.053222</td>\n",
              "      <td>77.970001</td>\n",
              "      <td>16.260214</td>\n",
              "      <td>53.752811</td>\n",
              "      <td>109.596252</td>\n",
              "    </tr>\n",
              "    <tr>\n",
              "      <th>2012-01-18</th>\n",
              "      <td>5.72</td>\n",
              "      <td>9.982975</td>\n",
              "      <td>78.919998</td>\n",
              "      <td>16.510771</td>\n",
              "      <td>54.466946</td>\n",
              "      <td>110.807961</td>\n",
              "    </tr>\n",
              "    <tr>\n",
              "      <th>2012-01-19</th>\n",
              "      <td>5.87</td>\n",
              "      <td>10.084444</td>\n",
              "      <td>79.589996</td>\n",
              "      <td>16.700851</td>\n",
              "      <td>54.805706</td>\n",
              "      <td>111.392624</td>\n",
              "    </tr>\n",
              "    <tr>\n",
              "      <th>2012-01-20</th>\n",
              "      <td>5.98</td>\n",
              "      <td>10.193716</td>\n",
              "      <td>79.910004</td>\n",
              "      <td>16.674932</td>\n",
              "      <td>54.723320</td>\n",
              "      <td>111.807823</td>\n",
              "    </tr>\n",
              "    <tr>\n",
              "      <th>2012-01-23</th>\n",
              "      <td>5.97</td>\n",
              "      <td>10.100054</td>\n",
              "      <td>79.150002</td>\n",
              "      <td>16.761335</td>\n",
              "      <td>54.741619</td>\n",
              "      <td>111.519737</td>\n",
              "    </tr>\n",
              "    <tr>\n",
              "      <th>2012-01-24</th>\n",
              "      <td>5.97</td>\n",
              "      <td>9.943950</td>\n",
              "      <td>78.480003</td>\n",
              "      <td>17.201963</td>\n",
              "      <td>54.640911</td>\n",
              "      <td>111.392624</td>\n",
              "    </tr>\n",
              "  </tbody>\n",
              "</table>\n",
              "</div>"
            ],
            "text/plain": [
              "             BSX        AES      BRK-B        SEE        QQQ         SPY\n",
              "Date                                                                    \n",
              "2012-01-03  5.36   9.460018  77.680000  15.016078  52.095646  108.037117\n",
              "2012-01-04  5.31   9.389772  76.800003  15.128395  52.315380  108.206604\n",
              "2012-01-05  5.34   9.616123  76.930000  15.024719  52.745693  108.494698\n",
              "2012-01-06  5.30   9.545878  76.389999  15.154319  52.928810  108.215065\n",
              "2012-01-09  5.35   9.733205  76.290001  15.137038  52.754841  108.477776\n",
              "2012-01-10  5.53   9.912727  77.419998  15.102478  53.139385  109.418312\n",
              "2012-01-11  5.54   9.881506  78.000000  15.214793  53.249256  109.477623\n",
              "2012-01-12  5.56   9.795647  78.500000  15.577669  53.459831  109.740280\n",
              "2012-01-13  5.52   9.873700  77.769997  15.534472  53.267567  109.172577\n",
              "2012-01-17  5.53  10.053222  77.970001  16.260214  53.752811  109.596252\n",
              "2012-01-18  5.72   9.982975  78.919998  16.510771  54.466946  110.807961\n",
              "2012-01-19  5.87  10.084444  79.589996  16.700851  54.805706  111.392624\n",
              "2012-01-20  5.98  10.193716  79.910004  16.674932  54.723320  111.807823\n",
              "2012-01-23  5.97  10.100054  79.150002  16.761335  54.741619  111.519737\n",
              "2012-01-24  5.97   9.943950  78.480003  17.201963  54.640911  111.392624"
            ]
          },
          "metadata": {
            "tags": []
          },
          "execution_count": 58
        }
      ]
    },
    {
      "cell_type": "code",
      "metadata": {
        "id": "P3FYkv7uyN1m",
        "colab_type": "code",
        "colab": {
          "base_uri": "https://localhost:8080/",
          "height": 136
        },
        "outputId": "760779c7-0821-491b-eee0-5ec763d80017"
      },
      "source": [
        "#Checking if any NaN values in the data\n",
        "nullin_df = pd.DataFrame(df,columns=['BSX','AES','BRK-B','SEE','QQQ','SPY'])\n",
        "print(nullin_df.isnull().sum())"
      ],
      "execution_count": 57,
      "outputs": [
        {
          "output_type": "stream",
          "text": [
            "BSX      0\n",
            "AES      0\n",
            "BRK-B    0\n",
            "SEE      0\n",
            "QQQ      0\n",
            "SPY      0\n",
            "dtype: int64\n"
          ],
          "name": "stdout"
        }
      ]
    },
    {
      "cell_type": "code",
      "metadata": {
        "id": "V-umfxkEyyrL",
        "colab_type": "code",
        "colab": {
          "base_uri": "https://localhost:8080/",
          "height": 85
        },
        "outputId": "cfc4f99b-1dae-4fd0-e664-a30d00181b47"
      },
      "source": [
        "#Annluaized Return\n",
        "mu = expected_returns.mean_historical_return(df_stocks) \n",
        "#Sample Variance of Portfolio\n",
        "Sigma = risk_models.sample_cov(df_stocks)"
      ],
      "execution_count": 68,
      "outputs": [
        {
          "output_type": "stream",
          "text": [
            "Expected annual return: 14.1%\n",
            "Annual volatility: 16.2%\n",
            "Sharpe Ratio: -0.49\n"
          ],
          "name": "stdout"
        },
        {
          "output_type": "execute_result",
          "data": {
            "text/plain": [
              "(0.14098790020974616, 0.16232927730593885, -0.48673967568611337)"
            ]
          },
          "metadata": {
            "tags": []
          },
          "execution_count": 68
        }
      ]
    },
    {
      "cell_type": "code",
      "metadata": {
        "id": "2woDK4yx4wbM",
        "colab_type": "code",
        "colab": {
          "base_uri": "https://localhost:8080/",
          "height": 34
        },
        "outputId": "0c89ae7f-73a6-462e-9c6f-56e256d4d62a"
      },
      "source": [
        "#Max Sharpe Ratio - Tangent to the EF\n",
        "ef = EfficientFrontier(mu, Sigma, weight_bounds=(-1,1)) ##weight bounds in negative allows shorting of stocks\n",
        "sharpe_pfolio=ef.max_sharpe() ##May use add objective to ensure minimum zero weighting to individual stocks\n",
        "sharpe_pwt=ef.clean_weights()\n",
        "print(sharpe_pwt)\n"
      ],
      "execution_count": 72,
      "outputs": [
        {
          "output_type": "stream",
          "text": [
            "{'BSX': 0.49791, 'AES': -0.1545, 'BRK-B': 0.14581, 'SEE': 0.05594, 'QQQ': 1.0, 'SPY': -0.54516}\n"
          ],
          "name": "stdout"
        }
      ]
    },
    {
      "cell_type": "code",
      "metadata": {
        "id": "XxbZawpQ5F7Z",
        "colab_type": "code",
        "colab": {
          "base_uri": "https://localhost:8080/",
          "height": 85
        },
        "outputId": "bdd805cf-ddc7-4cac-ffde-fe0236315ae2"
      },
      "source": [
        "ef.portfolio_performance(verbose=True, risk_free_rate = 0.22)\n",
        "# 2year risk free rate - US Treasury Yield "
      ],
      "execution_count": 73,
      "outputs": [
        {
          "output_type": "stream",
          "text": [
            "Expected annual return: 27.2%\n",
            "Annual volatility: 22.6%\n",
            "Sharpe Ratio: 0.23\n"
          ],
          "name": "stdout"
        },
        {
          "output_type": "execute_result",
          "data": {
            "text/plain": [
              "(0.2717241579240359, 0.22620522703255694, 0.22866031259565653)"
            ]
          },
          "metadata": {
            "tags": []
          },
          "execution_count": 73
        }
      ]
    },
    {
      "cell_type": "code",
      "metadata": {
        "id": "48hUTXnj5bl9",
        "colab_type": "code",
        "colab": {
          "base_uri": "https://localhost:8080/",
          "height": 34
        },
        "outputId": "a5c10374-beff-4691-937b-a36fe0593bac"
      },
      "source": [
        "#Min Volatility Portfolio\n",
        "ef1 = EfficientFrontier(mu, Sigma, weight_bounds=(-1,1)) ##weight bounds in negative allows shorting of stocks\n",
        "minvol=ef1.min_volatility()\n",
        "minvol_pwt=ef1.clean_weights()\n",
        "print(minvol_pwt)"
      ],
      "execution_count": 77,
      "outputs": [
        {
          "output_type": "stream",
          "text": [
            "{'BSX': -0.02036, 'AES': -0.01334, 'BRK-B': 0.15925, 'SEE': 0.02001, 'QQQ': -0.14555, 'SPY': 1.0}\n"
          ],
          "name": "stdout"
        }
      ]
    },
    {
      "cell_type": "code",
      "metadata": {
        "id": "iRXX-taz5vwj",
        "colab_type": "code",
        "colab": {
          "base_uri": "https://localhost:8080/",
          "height": 85
        },
        "outputId": "4655373e-f9d7-47be-b231-f00d4fb48c48"
      },
      "source": [
        "ef1.portfolio_performance(verbose=True, risk_free_rate = 0.22)"
      ],
      "execution_count": 79,
      "outputs": [
        {
          "output_type": "stream",
          "text": [
            "Expected annual return: 13.0%\n",
            "Annual volatility: 16.1%\n",
            "Sharpe Ratio: -0.56\n"
          ],
          "name": "stdout"
        },
        {
          "output_type": "execute_result",
          "data": {
            "text/plain": [
              "(0.13003794309960648, 0.16105434843723274, -0.5585819803893974)"
            ]
          },
          "metadata": {
            "tags": []
          },
          "execution_count": 79
        }
      ]
    },
    {
      "cell_type": "code",
      "metadata": {
        "id": "4HGlgUlK9iHB",
        "colab_type": "code",
        "colab": {}
      },
      "source": [
        "from pypfopt.cla import CLA\n",
        "from pypfopt.plotting import Plotting\n",
        "from pypfopt import discrete_allocation"
      ],
      "execution_count": 0,
      "outputs": []
    },
    {
      "cell_type": "code",
      "metadata": {
        "id": "egnkULJ06p7K",
        "colab_type": "code",
        "outputId": "6f6fd06c-ec8a-4963-9fdb-39b8d739cd0f",
        "colab": {
          "base_uri": "https://localhost:8080/",
          "height": 297
        }
      },
      "source": [
        "cl_obj = CLA(mu, Sigma)\n",
        "ax = Plotting.plot_efficient_frontier(cl_obj, showfig = False)\n",
        "ax.xaxis.set_major_formatter(FuncFormatter(lambda x, _: '{:.0%}'.format(x)))\n",
        "ax.yaxis.set_major_formatter(FuncFormatter(lambda y, _: '{:.0%}'.format(y)))"
      ],
      "execution_count": 95,
      "outputs": [
        {
          "output_type": "display_data",
          "data": {
            "image/png": "[encoded data removed]",
            "text/plain": [
              "<Figure size 432x288 with 1 Axes>"
            ]
          },
          "metadata": {
            "tags": [],
            "needs_background": "light"
          }
        }
      ]
    },
    {
      "cell_type": "code",
      "metadata": {
        "id": "9wYfKhXx_p7V",
        "colab_type": "code",
        "colab": {
          "base_uri": "https://localhost:8080/",
          "height": 102
        },
        "outputId": "937b2d38-d27e-402e-ca3b-0cf12302ed30"
      },
      "source": [
        "latest_prices = discrete_allocation.get_latest_prices(df_stocks)\n",
        "# Allocate Portfolio Value in $ as required to show number of shares/stocks to buy, also bounds for shorting will affect allocation\n",
        "#Min Volatility Portfolio Allocation $10000\n",
        "allocation_minv, rem_minv = discrete_allocation.DiscreteAllocation(minvol_pwt, latest_prices, total_portfolio_value=10000).lp_portfolio() \n",
        "print(allocation_minv)\n",
        "print(\"Leftover Fund value in$ after building minimum volatility portfolio is ${:.2f}\".format(rem_minv))\n",
        "print()\n",
        "#Max Sharpe Ratio Portfolio Allocation $10000\n",
        "allocation_shp, rem_shp = discrete_allocation.DiscreteAllocation(sharpe_pwt, latest_prices, total_portfolio_value=10000).lp_portfolio() \n",
        "print(allocation_shp)\n",
        "print(\"Leftover Fund value in$ after building Max Sharpe ratio portfolio: ${:.2f}\".format(rem_f))\n",
        "\n",
        "#allocation using integer programming via PyPortfolioOpt User Guide\n",
        "#Alex Putkov code used for guidance and reference in applying integer programming"
      ],
      "execution_count": 99,
      "outputs": [
        {
          "output_type": "stream",
          "text": [
            "{'BRK-B': 6.0, 'SEE': 4.0, 'SPY': 27.0, 'BSX': -9.0, 'AES': -16.0, 'QQQ': -10.0}\n",
            "Leftover Fund value in$ after building minimum volatility portfolio is $58.17\n",
            "\n",
            "{'BSX': 75.0, 'BRK-B': 4.0, 'SEE': 8.0, 'QQQ': 25.0, 'AES': -47.0, 'SPY': -7.0}\n",
            "Leftover Fund value in$ after building Max Sharpe ratio portfolio: $104.34\n"
          ],
          "name": "stdout"
        }
      ]
    }
  ]
}